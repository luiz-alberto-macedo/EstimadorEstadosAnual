{
 "cells": [
  {
   "cell_type": "code",
   "execution_count": 18,
   "metadata": {},
   "outputs": [],
   "source": [
    "from sklearn.model_selection import train_test_split\n",
    "from sklearn.preprocessing import StandardScaler\n",
    "from sklearn.ensemble import RandomForestRegressor\n",
    "from sklearn.metrics import mean_squared_error, r2_score\n",
    "from sklearn.model_selection import cross_val_score\n",
    "from sklearn.model_selection import KFold\n",
    "import numpy as np\n",
    "import pandas as pd\n",
    "from pathlib import Path\n",
    "import time\n",
    "import joblib\n",
    "import os"
   ]
  },
  {
   "cell_type": "code",
   "execution_count": 33,
   "metadata": {},
   "outputs": [
    {
     "name": "stdout",
     "output_type": "stream",
     "text": [
      "             hora nome_barra       base  Geracao  Fase_0  Fase_1  Fase_2  \\\n",
      "0          hora_0        650   2.401777      NaN       1       1       1   \n",
      "1          hora_0       rg60   2.401777      NaN       1       1       1   \n",
      "2          hora_0        633   2.401777      NaN       1       1       1   \n",
      "3          hora_0        634   0.277128      NaN       1       1       1   \n",
      "4          hora_0        671   2.401777      NaN       1       1       1   \n",
      "...           ...        ...        ...      ...     ...     ...     ...   \n",
      "140155  hora_8759        670   2.401777      NaN       1       1       1   \n",
      "140156  hora_8759        632   2.401777      NaN       1       1       1   \n",
      "140157  hora_8759        680   2.401777      NaN       1       1       1   \n",
      "140158  hora_8759        684   2.401777      NaN       1       0       1   \n",
      "140159  hora_8759  sourcebus  66.395281      1.0       1       1       1   \n",
      "\n",
      "        inj_pot_at_0  inj_pot_at_1  inj_pot_at_2  ...  ang_tensao_estimado_2  \\\n",
      "0                NaN           NaN           NaN  ...               1.531742   \n",
      "1                NaN           NaN           NaN  ...               1.531707   \n",
      "2                NaN           NaN           NaN  ...               1.505045   \n",
      "3          -0.003011     -0.002259     -0.002259  ...               1.499842   \n",
      "4          -0.007241     -0.007349     -0.007149  ...               1.484106   \n",
      "...              ...           ...           ...  ...                    ...   \n",
      "140155     -0.000320     -0.001242     -0.002202  ...               1.497301   \n",
      "140156           NaN           NaN           NaN  ...               1.505114   \n",
      "140157           NaN           NaN           NaN  ...               1.484116   \n",
      "140158           NaN           NaN           NaN  ...               1.482531   \n",
      "140159           NaN           NaN           NaN  ...              -2.094395   \n",
      "\n",
      "        tensao_estimada_0  tensao_estimada_1  tensao_estimada_2  \\\n",
      "0                0.979352           0.989080           0.981357   \n",
      "1                1.046611           1.038486           1.042621   \n",
      "2                1.022407           1.034536           1.015368   \n",
      "3                1.007587           1.023054           1.003671   \n",
      "4                1.007720           1.045153           0.998969   \n",
      "...                   ...                ...                ...   \n",
      "140155           1.018939           1.038337           1.010187   \n",
      "140156           1.024277           1.035722           1.017001   \n",
      "140157           1.007721           1.045140           0.998970   \n",
      "140158           1.006448                NaN           0.998215   \n",
      "140159           1.000000           1.000000           1.000000   \n",
      "\n",
      "        ang_tensao_gabarito_0  ang_tensao_gabarito_1  ang_tensao_gabarito_2  \\\n",
      "0                   -0.552678              -2.641193               1.539342   \n",
      "1                   -0.551085              -2.639939               1.541168   \n",
      "2                   -0.571172              -2.654981               1.520938   \n",
      "3                   -0.576138              -2.658478               1.517461   \n",
      "4                   -0.594203              -2.661702               1.503165   \n",
      "...                       ...                    ...                    ...   \n",
      "140155              -0.613435              -2.679427               1.483309   \n",
      "140156              -0.596698              -2.673088               1.496828   \n",
      "140157              -0.625100              -2.678157               1.478376   \n",
      "140158              -0.618262                    NaN               1.482540   \n",
      "140159               0.000000               2.094395              -2.094395   \n",
      "\n",
      "        tensao_gabarito_0  tensao_gabarito_1  tensao_gabarito_2  \n",
      "0                0.986098           0.993502           0.988799  \n",
      "1                1.037010           1.031835           1.033743  \n",
      "2                1.022487           1.024630           1.019448  \n",
      "3                1.012093           1.016393           1.011388  \n",
      "4                1.012441           1.033393           1.010144  \n",
      "...                   ...                ...                ...  \n",
      "140155           1.014199           1.037312           1.007833  \n",
      "140156           1.020403           1.037234           1.017436  \n",
      "140157           1.006883           1.042663           0.996286  \n",
      "140158           1.006446                NaN           0.998214  \n",
      "140159           1.000000           1.000000           1.000000  \n",
      "\n",
      "[140160 rows x 31 columns]\n"
     ]
    }
   ],
   "source": [
    "# Carregar os datasets\n",
    "\n",
    "path = Path(os.getcwd())\n",
    "CurrentFolder = path\n",
    "MasterFile_Loadshape1 = CurrentFolder / 'objs' / '13Bus' / 'Datasets' / 'Loadshape1' / 'dataset_anual_8760h_11h.csv'\n",
    "MasterFile_Loadshape2 = CurrentFolder / 'objs' / '13Bus' / 'Datasets' / 'Loadshape2' / 'dataset_anual_0h_8760h_8760h.csv'\n",
    "data_Loadshape1 = pd.read_csv(MasterFile_Loadshape1)\n",
    "data_Loadshape2 = pd.read_csv(MasterFile_Loadshape2)"
   ]
  },
  {
   "cell_type": "code",
   "execution_count": 10,
   "metadata": {},
   "outputs": [],
   "source": [
    "# Salvar as colunas de \"hora\" e \"nome_barra\" para adicionar na saída final\n",
    "hora = data_Loadshape1['hora']\n",
    "nome_barra = data_Loadshape1['nome_barra']\n",
    "base = data_Loadshape1['base']\n",
    "geracao = data_Loadshape1['Geracao']"
   ]
  },
  {
   "cell_type": "code",
   "execution_count": 37,
   "metadata": {},
   "outputs": [],
   "source": [
    "# Selecionar as features e os targets\n",
    "# Entradas: Potência injetada, tensão, fases conectadas\n",
    "features = data_Loadshape1[['Geracao',\n",
    "                 'Fase_0', 'Fase_1', 'Fase_2',\n",
    "                 'inj_pot_at_0', 'inj_pot_at_1', 'inj_pot_at_2', \n",
    "                 'inj_pot_rat_0', 'inj_pot_rat_1', 'inj_pot_rat_2',\n",
    "                 'tensao_0', 'tensao_1', 'tensao_2']]\n",
    "\n",
    "# Saídas: Ângulos de tensão estimados e tensões estimadas\n",
    "targets = data_Loadshape1[['ang_tensao_estimado_0', 'ang_tensao_estimado_1', 'ang_tensao_estimado_2',\n",
    "                'tensao_estimada_0', 'tensao_estimada_1', 'tensao_estimada_2']]\n",
    "\n",
    "\n",
    "# Tratar valores faltantes (opção: remover ou preencher)\n",
    "Entrada = features.fillna(value=0)\n",
    "Saida = targets.fillna(value=0)\n",
    "\n",
    "#print(Entrada)\n",
    "\n",
    "#print(Saida)"
   ]
  },
  {
   "cell_type": "code",
   "execution_count": 12,
   "metadata": {},
   "outputs": [
    {
     "name": "stdout",
     "output_type": "stream",
     "text": [
      "IA treinada em 75.35995411872864s\n"
     ]
    }
   ],
   "source": [
    "# Dividir os dados em conjunto de treino e teste\n",
    "X_train, X_test, y_train, y_test = train_test_split(Entrada, Saida, test_size=0.2, random_state=42)\n",
    "\n",
    "# Normalizando os dados\n",
    "scaler = StandardScaler()\n",
    "X_train_scaled = scaler.fit_transform(X_train)\n",
    "X_test_scaled = scaler.transform(X_test)\n",
    "\n",
    "# Criando e treinando o modelo\n",
    "inicio_treinamento = time.time()\n",
    "model = RandomForestRegressor(n_estimators=100, random_state=42)\n",
    "model.fit(X_train_scaled, y_train)\n",
    "fim_treinamento = time.time()\n",
    "\n",
    "print(f'IA treinada em {fim_treinamento-inicio_treinamento}s')"
   ]
  },
  {
   "cell_type": "code",
   "execution_count": 28,
   "metadata": {},
   "outputs": [
    {
     "name": "stdout",
     "output_type": "stream",
     "text": [
      "Mean Squared Error (média): 0.045738331905239064\n",
      "R-squared Score (média): 0.9521067862862405\n"
     ]
    }
   ],
   "source": [
    "# Configuração da validação cruzada\n",
    "kf = KFold(n_splits=10, shuffle=True, random_state=42)  # 10-fold cross-validation\n",
    "\n",
    "# Avaliar o modelo com validação cruzada\n",
    "mse_scores = cross_val_score(model, Entrada, Saida, \n",
    "                             cv=kf, scoring='neg_mean_squared_error')\n",
    "r2_scores = cross_val_score(model, Entrada, Saida, \n",
    "                            cv=kf, scoring='r2')\n",
    "\n",
    "# Como 'neg_mean_squared_error' retorna valores negativos, convertemos para positivo\n",
    "mse_scores = -mse_scores\n",
    "\n",
    "# Exibir resultados\n",
    "print(f\"Mean Squared Error (média): {np.mean(mse_scores)}\")\n",
    "print(f\"R-squared Score (média): {np.mean(r2_scores)}\")"
   ]
  },
  {
   "cell_type": "code",
   "execution_count": 29,
   "metadata": {},
   "outputs": [
    {
     "name": "stdout",
     "output_type": "stream",
     "text": [
      "[0.05048483 0.1067314  0.0363362  0.05810335 0.0745652  0.02165994\n",
      " 0.07385065 0.01325231 0.01215736 0.01024207]\n",
      "[0.94689004 0.90763465 0.959716   0.93643663 0.93362905 0.96195498\n",
      " 0.93443735 0.97338679 0.97888457 0.98809779]\n"
     ]
    }
   ],
   "source": [
    "print(mse_scores)\n",
    "print(r2_scores)"
   ]
  }
 ],
 "metadata": {
  "kernelspec": {
   "display_name": "Python 3",
   "language": "python",
   "name": "python3"
  },
  "language_info": {
   "codemirror_mode": {
    "name": "ipython",
    "version": 3
   },
   "file_extension": ".py",
   "mimetype": "text/x-python",
   "name": "python",
   "nbconvert_exporter": "python",
   "pygments_lexer": "ipython3",
   "version": "3.12.0"
  }
 },
 "nbformat": 4,
 "nbformat_minor": 2
}
